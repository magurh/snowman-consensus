{
 "cells": [
  {
   "cell_type": "code",
   "execution_count": 1,
   "id": "931d6816-a82c-4a82-bb88-dafc06223859",
   "metadata": {
    "tags": []
   },
   "outputs": [],
   "source": [
    "import pandas as pd\n",
    "import numpy as np\n",
    "import matplotlib.pyplot as plt\n",
    "%matplotlib inline\n",
    "\n",
    "import time\n",
    "\n",
    "import os\n",
    "import sys\n",
    "\n",
    "module_path = os.path.abspath('../') # root directory\n",
    "if module_path not in sys.path:\n",
    "    sys.path.append(module_path)\n",
    "\n",
    "from consensus.protocols import slush\n",
    "\n",
    "# import warnings\n",
    "# warnings.filterwarnings(\"ignore\")"
   ]
  },
  {
   "cell_type": "markdown",
   "id": "7e8c54e6-0f8d-482b-9167-2c0358da3361",
   "metadata": {
    "tags": []
   },
   "source": [
    "# Slush algorithm convergence"
   ]
  },
  {
   "cell_type": "markdown",
   "id": "188df288-1560-454b-8b8b-46647ae570bc",
   "metadata": {},
   "source": [
    "We first want to test how many rounds are needed for convergence. For this, we start with a scenario where 50% of the network is in a state, and the other 50% is in opposite state.\n",
    "\n",
    "First, we consider the algorithm in the absence of any Byzantine nodes, with only global parameters."
   ]
  },
  {
   "cell_type": "markdown",
   "id": "94d910ab-acac-4781-a68f-fad62549388c",
   "metadata": {
    "tags": []
   },
   "source": [
    "### Ideal case (only honest nodes)"
   ]
  },
  {
   "cell_type": "markdown",
   "id": "fbec28f2-58c2-4a3e-aa99-e3769c3ccf47",
   "metadata": {
    "tags": []
   },
   "source": [
    "1. We generate a vector of length n=101, evenly split, with 50: 0's and 51: 1's.\n",
    "2. We run the Slush protocol N = 1000 times for fixed k, alpha parameters."
   ]
  },
  {
   "cell_type": "code",
   "execution_count": 8,
   "id": "bedae403-f266-4f64-a2d4-f7b8f7c43a2b",
   "metadata": {
    "tags": []
   },
   "outputs": [],
   "source": [
    "num_nodes = 101\n",
    "colours = np.concatenate((np.zeros(num_nodes//2), np.ones(num_nodes//2+1)))\n",
    "np.random.shuffle(colours)\n",
    "\n",
    "SlushResults = pd.DataFrame()\n",
    "\n",
    "for slush_params in [(10, 6), (10, 7), (10, 8), (20, 15), (20, 14), (20, 12)]:\n",
    "    k, alpha = slush_params\n",
    "\n",
    "    num_iter = 1000\n",
    "    Ts, Ms = np.zeros(num_iter), np.zeros(num_iter, dtype = int)\n",
    "    break_param = int(np.sqrt(num_nodes))\n",
    "    \n",
    "    for j in range(num_iter):\n",
    "        start_time = time.time()\n",
    "        Ms[j] = slush(num_nodes, 0, colours.copy(), k, alpha, break_param)[1] # no byzantine nodes\n",
    "        Ts[j] = time.time() - start_time\n",
    "\n",
    "    SlushResults[f\"rounds {slush_params}\"] = Ms/num_nodes\n",
    "    SlushResults[f\"time {slush_params}\"] = Ts*1000"
   ]
  },
  {
   "cell_type": "code",
   "execution_count": 9,
   "id": "72c1b206-edcf-46cb-87fe-0490138f83d0",
   "metadata": {
    "tags": []
   },
   "outputs": [
    {
     "data": {
      "text/html": [
       "<div>\n",
       "<style scoped>\n",
       "    .dataframe tbody tr th:only-of-type {\n",
       "        vertical-align: middle;\n",
       "    }\n",
       "\n",
       "    .dataframe tbody tr th {\n",
       "        vertical-align: top;\n",
       "    }\n",
       "\n",
       "    .dataframe thead th {\n",
       "        text-align: right;\n",
       "    }\n",
       "</style>\n",
       "<table border=\"1\" class=\"dataframe\">\n",
       "  <thead>\n",
       "    <tr style=\"text-align: right;\">\n",
       "      <th></th>\n",
       "      <th>m (10, 6)</th>\n",
       "      <th>t (10, 6)</th>\n",
       "      <th>m (10, 7)</th>\n",
       "      <th>t (10, 7)</th>\n",
       "      <th>m (10, 8)</th>\n",
       "      <th>t (10, 8)</th>\n",
       "      <th>m (20, 15)</th>\n",
       "      <th>t (20, 15)</th>\n",
       "      <th>m (20, 14)</th>\n",
       "      <th>t (20, 14)</th>\n",
       "      <th>m (20, 12)</th>\n",
       "      <th>t (20, 12)</th>\n",
       "    </tr>\n",
       "  </thead>\n",
       "  <tbody>\n",
       "    <tr>\n",
       "      <th>0</th>\n",
       "      <td>2.633663</td>\n",
       "      <td>7.977724</td>\n",
       "      <td>3.019802</td>\n",
       "      <td>6.982327</td>\n",
       "      <td>12.693069</td>\n",
       "      <td>33.909321</td>\n",
       "      <td>19.693069</td>\n",
       "      <td>54.850101</td>\n",
       "      <td>4.792079</td>\n",
       "      <td>12.932062</td>\n",
       "      <td>2.445545</td>\n",
       "      <td>10.011435</td>\n",
       "    </tr>\n",
       "    <tr>\n",
       "      <th>1</th>\n",
       "      <td>2.732673</td>\n",
       "      <td>8.975983</td>\n",
       "      <td>4.465347</td>\n",
       "      <td>11.931896</td>\n",
       "      <td>6.564356</td>\n",
       "      <td>16.954899</td>\n",
       "      <td>17.326733</td>\n",
       "      <td>48.859119</td>\n",
       "      <td>4.158416</td>\n",
       "      <td>10.970831</td>\n",
       "      <td>2.613861</td>\n",
       "      <td>7.975578</td>\n",
       "    </tr>\n",
       "    <tr>\n",
       "      <th>2</th>\n",
       "      <td>1.910891</td>\n",
       "      <td>5.984545</td>\n",
       "      <td>3.267327</td>\n",
       "      <td>10.971546</td>\n",
       "      <td>5.346535</td>\n",
       "      <td>13.962746</td>\n",
       "      <td>8.465347</td>\n",
       "      <td>22.948503</td>\n",
       "      <td>4.326733</td>\n",
       "      <td>10.970831</td>\n",
       "      <td>3.475248</td>\n",
       "      <td>11.932373</td>\n",
       "    </tr>\n",
       "    <tr>\n",
       "      <th>3</th>\n",
       "      <td>2.940594</td>\n",
       "      <td>10.973692</td>\n",
       "      <td>3.009901</td>\n",
       "      <td>8.977175</td>\n",
       "      <td>4.257426</td>\n",
       "      <td>11.967659</td>\n",
       "      <td>14.039604</td>\n",
       "      <td>39.892912</td>\n",
       "      <td>7.405941</td>\n",
       "      <td>19.946575</td>\n",
       "      <td>1.811881</td>\n",
       "      <td>5.984068</td>\n",
       "    </tr>\n",
       "    <tr>\n",
       "      <th>4</th>\n",
       "      <td>2.366337</td>\n",
       "      <td>9.970665</td>\n",
       "      <td>3.881188</td>\n",
       "      <td>9.015560</td>\n",
       "      <td>4.623762</td>\n",
       "      <td>12.966633</td>\n",
       "      <td>7.396040</td>\n",
       "      <td>20.944357</td>\n",
       "      <td>6.158416</td>\n",
       "      <td>17.953873</td>\n",
       "      <td>5.079208</td>\n",
       "      <td>16.954660</td>\n",
       "    </tr>\n",
       "  </tbody>\n",
       "</table>\n",
       "</div>"
      ],
      "text/plain": [
       "   m (10, 6)  t (10, 6)  m (10, 7)  t (10, 7)  m (10, 8)  t (10, 8)  \\\n",
       "0   2.633663   7.977724   3.019802   6.982327  12.693069  33.909321   \n",
       "1   2.732673   8.975983   4.465347  11.931896   6.564356  16.954899   \n",
       "2   1.910891   5.984545   3.267327  10.971546   5.346535  13.962746   \n",
       "3   2.940594  10.973692   3.009901   8.977175   4.257426  11.967659   \n",
       "4   2.366337   9.970665   3.881188   9.015560   4.623762  12.966633   \n",
       "\n",
       "   m (20, 15)  t (20, 15)  m (20, 14)  t (20, 14)  m (20, 12)  t (20, 12)  \n",
       "0   19.693069   54.850101    4.792079   12.932062    2.445545   10.011435  \n",
       "1   17.326733   48.859119    4.158416   10.970831    2.613861    7.975578  \n",
       "2    8.465347   22.948503    4.326733   10.970831    3.475248   11.932373  \n",
       "3   14.039604   39.892912    7.405941   19.946575    1.811881    5.984068  \n",
       "4    7.396040   20.944357    6.158416   17.953873    5.079208   16.954660  "
      ]
     },
     "execution_count": 9,
     "metadata": {},
     "output_type": "execute_result"
    }
   ],
   "source": [
    "SlushResults.head()"
   ]
  },
  {
   "cell_type": "code",
   "execution_count": 10,
   "id": "c6abc2e4-1f2d-45bd-85ed-17be34840fd9",
   "metadata": {
    "tags": []
   },
   "outputs": [
    {
     "data": {
      "text/html": [
       "<div>\n",
       "<style scoped>\n",
       "    .dataframe tbody tr th:only-of-type {\n",
       "        vertical-align: middle;\n",
       "    }\n",
       "\n",
       "    .dataframe tbody tr th {\n",
       "        vertical-align: top;\n",
       "    }\n",
       "\n",
       "    .dataframe thead th {\n",
       "        text-align: right;\n",
       "    }\n",
       "</style>\n",
       "<table border=\"1\" class=\"dataframe\">\n",
       "  <thead>\n",
       "    <tr style=\"text-align: right;\">\n",
       "      <th></th>\n",
       "      <th>m (10, 6)</th>\n",
       "      <th>t (10, 6)</th>\n",
       "      <th>m (10, 7)</th>\n",
       "      <th>t (10, 7)</th>\n",
       "      <th>m (10, 8)</th>\n",
       "      <th>t (10, 8)</th>\n",
       "      <th>m (20, 15)</th>\n",
       "      <th>t (20, 15)</th>\n",
       "      <th>m (20, 14)</th>\n",
       "      <th>t (20, 14)</th>\n",
       "      <th>m (20, 12)</th>\n",
       "      <th>t (20, 12)</th>\n",
       "    </tr>\n",
       "  </thead>\n",
       "  <tbody>\n",
       "    <tr>\n",
       "      <th>count</th>\n",
       "      <td>1000.000000</td>\n",
       "      <td>1000.000000</td>\n",
       "      <td>1000.000000</td>\n",
       "      <td>1000.000000</td>\n",
       "      <td>1000.000000</td>\n",
       "      <td>1000.000000</td>\n",
       "      <td>1000.000000</td>\n",
       "      <td>1000.000000</td>\n",
       "      <td>1000.000000</td>\n",
       "      <td>1000.000000</td>\n",
       "      <td>1000.000000</td>\n",
       "      <td>1000.000000</td>\n",
       "    </tr>\n",
       "    <tr>\n",
       "      <th>mean</th>\n",
       "      <td>2.712000</td>\n",
       "      <td>7.013033</td>\n",
       "      <td>3.526634</td>\n",
       "      <td>9.207340</td>\n",
       "      <td>7.026257</td>\n",
       "      <td>19.217028</td>\n",
       "      <td>11.763693</td>\n",
       "      <td>33.047472</td>\n",
       "      <td>5.298129</td>\n",
       "      <td>15.464591</td>\n",
       "      <td>2.467911</td>\n",
       "      <td>7.293494</td>\n",
       "    </tr>\n",
       "    <tr>\n",
       "      <th>std</th>\n",
       "      <td>0.667994</td>\n",
       "      <td>1.841418</td>\n",
       "      <td>0.870242</td>\n",
       "      <td>2.366942</td>\n",
       "      <td>2.056005</td>\n",
       "      <td>6.516037</td>\n",
       "      <td>4.296747</td>\n",
       "      <td>12.195161</td>\n",
       "      <td>1.688672</td>\n",
       "      <td>5.553111</td>\n",
       "      <td>0.515722</td>\n",
       "      <td>1.699735</td>\n",
       "    </tr>\n",
       "    <tr>\n",
       "      <th>min</th>\n",
       "      <td>1.346535</td>\n",
       "      <td>2.990961</td>\n",
       "      <td>1.673267</td>\n",
       "      <td>4.027367</td>\n",
       "      <td>3.099010</td>\n",
       "      <td>7.979393</td>\n",
       "      <td>4.683168</td>\n",
       "      <td>13.930559</td>\n",
       "      <td>2.485149</td>\n",
       "      <td>5.980253</td>\n",
       "      <td>1.366337</td>\n",
       "      <td>3.954887</td>\n",
       "    </tr>\n",
       "    <tr>\n",
       "      <th>25%</th>\n",
       "      <td>2.254950</td>\n",
       "      <td>5.982578</td>\n",
       "      <td>2.930693</td>\n",
       "      <td>7.976055</td>\n",
       "      <td>5.574257</td>\n",
       "      <td>14.960706</td>\n",
       "      <td>8.732673</td>\n",
       "      <td>24.928093</td>\n",
       "      <td>4.138614</td>\n",
       "      <td>11.967838</td>\n",
       "      <td>2.118812</td>\n",
       "      <td>5.984068</td>\n",
       "    </tr>\n",
       "    <tr>\n",
       "      <th>50%</th>\n",
       "      <td>2.584158</td>\n",
       "      <td>6.979704</td>\n",
       "      <td>3.356436</td>\n",
       "      <td>8.974791</td>\n",
       "      <td>6.594059</td>\n",
       "      <td>17.951727</td>\n",
       "      <td>10.811881</td>\n",
       "      <td>29.924154</td>\n",
       "      <td>5.000000</td>\n",
       "      <td>14.925599</td>\n",
       "      <td>2.376238</td>\n",
       "      <td>6.981373</td>\n",
       "    </tr>\n",
       "    <tr>\n",
       "      <th>75%</th>\n",
       "      <td>3.079208</td>\n",
       "      <td>7.978678</td>\n",
       "      <td>3.960396</td>\n",
       "      <td>10.008872</td>\n",
       "      <td>7.982673</td>\n",
       "      <td>21.940470</td>\n",
       "      <td>13.702970</td>\n",
       "      <td>38.895845</td>\n",
       "      <td>6.039604</td>\n",
       "      <td>17.917275</td>\n",
       "      <td>2.742574</td>\n",
       "      <td>7.978916</td>\n",
       "    </tr>\n",
       "    <tr>\n",
       "      <th>max</th>\n",
       "      <td>6.425743</td>\n",
       "      <td>15.957594</td>\n",
       "      <td>7.623762</td>\n",
       "      <td>18.946171</td>\n",
       "      <td>17.405941</td>\n",
       "      <td>86.770296</td>\n",
       "      <td>36.227723</td>\n",
       "      <td>95.778465</td>\n",
       "      <td>16.514851</td>\n",
       "      <td>71.805954</td>\n",
       "      <td>5.079208</td>\n",
       "      <td>16.955137</td>\n",
       "    </tr>\n",
       "  </tbody>\n",
       "</table>\n",
       "</div>"
      ],
      "text/plain": [
       "         m (10, 6)    t (10, 6)    m (10, 7)    t (10, 7)    m (10, 8)  \\\n",
       "count  1000.000000  1000.000000  1000.000000  1000.000000  1000.000000   \n",
       "mean      2.712000     7.013033     3.526634     9.207340     7.026257   \n",
       "std       0.667994     1.841418     0.870242     2.366942     2.056005   \n",
       "min       1.346535     2.990961     1.673267     4.027367     3.099010   \n",
       "25%       2.254950     5.982578     2.930693     7.976055     5.574257   \n",
       "50%       2.584158     6.979704     3.356436     8.974791     6.594059   \n",
       "75%       3.079208     7.978678     3.960396    10.008872     7.982673   \n",
       "max       6.425743    15.957594     7.623762    18.946171    17.405941   \n",
       "\n",
       "         t (10, 8)   m (20, 15)   t (20, 15)   m (20, 14)   t (20, 14)  \\\n",
       "count  1000.000000  1000.000000  1000.000000  1000.000000  1000.000000   \n",
       "mean     19.217028    11.763693    33.047472     5.298129    15.464591   \n",
       "std       6.516037     4.296747    12.195161     1.688672     5.553111   \n",
       "min       7.979393     4.683168    13.930559     2.485149     5.980253   \n",
       "25%      14.960706     8.732673    24.928093     4.138614    11.967838   \n",
       "50%      17.951727    10.811881    29.924154     5.000000    14.925599   \n",
       "75%      21.940470    13.702970    38.895845     6.039604    17.917275   \n",
       "max      86.770296    36.227723    95.778465    16.514851    71.805954   \n",
       "\n",
       "        m (20, 12)   t (20, 12)  \n",
       "count  1000.000000  1000.000000  \n",
       "mean      2.467911     7.293494  \n",
       "std       0.515722     1.699735  \n",
       "min       1.366337     3.954887  \n",
       "25%       2.118812     5.984068  \n",
       "50%       2.376238     6.981373  \n",
       "75%       2.742574     7.978916  \n",
       "max       5.079208    16.955137  "
      ]
     },
     "execution_count": 10,
     "metadata": {},
     "output_type": "execute_result"
    }
   ],
   "source": [
    "SlushResults.describe()"
   ]
  },
  {
   "cell_type": "code",
   "execution_count": 12,
   "id": "c3e14359-dfab-49a4-b408-0dbb66335dd6",
   "metadata": {},
   "outputs": [
    {
     "data": {
      "text/plain": [
       "4.720000000000001"
      ]
     },
     "execution_count": 12,
     "metadata": {},
     "output_type": "execute_result"
    }
   ],
   "source": [
    "11.8/2.5"
   ]
  },
  {
   "cell_type": "code",
   "execution_count": 11,
   "id": "549e24d4-face-4c6e-86fb-3396530f57c5",
   "metadata": {
    "tags": []
   },
   "outputs": [
    {
     "data": {
      "text/plain": [
       "Text(0.5, 1.0, 'Total elapsed time (ms)')"
      ]
     },
     "execution_count": 11,
     "metadata": {},
     "output_type": "execute_result"
    },
    {
     "data": {
      "image/png": "[encoded data removed]",
      "text/plain": [
       "<Figure size 1000x800 with 4 Axes>"
      ]
     },
     "metadata": {},
     "output_type": "display_data"
    }
   ],
   "source": [
    "fig, ax = plt.subplots(nrows=2, ncols=2, figsize=(10,8))\n",
    "\n",
    "SlushResults.hist(column=['rounds (10, 6)'], figsize=(8,6), bins=15, ax= ax[0][0], alpha = 0.7, color = 'b', label=\"(10, 6)\", lw = 1, ec='k')\n",
    "SlushResults.hist(column=['rounds (10, 7)'], figsize=(8,6), bins=15, ax= ax[0][0], alpha = 0.3, color = 'r', label=\"(10, 7)\", lw = 1, ec='k')\n",
    "SlushResults.hist(column=['rounds (10, 8)'], figsize=(8,6), bins=20, ax= ax[0][0], alpha = 0.3, color = 'g', label=\"(10, 8)\", lw = 1, ec='k')\n",
    "\n",
    "SlushResults.hist(column=['time (10, 6)'], figsize=(8,6), bins=6, ax= ax[0][1], alpha = 0.6, color = 'b', label=\"(10, 6)\", lw = 1, ec='k')\n",
    "SlushResults.hist(column=['time (10, 7)'], figsize=(8,6), bins=6, ax= ax[0][1], alpha = 0.5, color = 'r', label=\"(10, 7)\", lw = 1, ec='k')\n",
    "SlushResults.hist(column=['time (10, 8)'], figsize=(8,6), bins=14, ax= ax[0][1], alpha = 0.5, color = 'g', label=\"(10, 8)\", lw = 1, ec='k')\n",
    "\n",
    "SlushResults.hist(column=['rounds (20, 12)'], figsize=(8,6), bins=15, ax= ax[1][0], alpha = 0.6, color = 'b', label=\"(20, 12)\", lw = 1, ec='k')\n",
    "SlushResults.hist(column=['rounds (20, 14)'], figsize=(8,6), bins=30, ax= ax[1][0], alpha = 0.5, color = 'r', label=\"(20, 14)\", lw = 1, ec='k')\n",
    "SlushResults.hist(column=['rounds (20, 15)'], figsize=(8,6), bins=30, ax= ax[1][0], alpha = 0.5, color = 'g', label=\"(20, 15)\", lw = 1, ec='k')\n",
    "\n",
    "SlushResults.hist(column=['time (20, 12)'], figsize=(8,6), bins=4, ax= ax[1][1], alpha = 0.6, color = 'b', label=\"(20, 12)\", lw = 1, ec='k')\n",
    "SlushResults.hist(column=['time (20, 14)'], figsize=(8,6), bins=12, ax= ax[1][1], alpha = 0.5, color = 'r', label=\"(20, 14)\", lw = 1, ec='k')\n",
    "SlushResults.hist(column=['time (20, 15)'], figsize=(8,6), bins=7, ax= ax[1][1], alpha = 0.5, color = 'g', label=\"(20, 15)\", lw = 1, ec='k')\n",
    "\n",
    "ax[0][0].legend(loc = 'upper right')\n",
    "ax[0][1].legend(loc = 'upper right')\n",
    "ax[1][0].legend(loc = 'upper right')\n",
    "ax[1][1].legend(loc = 'upper right')\n",
    "\n",
    "ax[0][0].set_title(\"No. of rounds per node\")\n",
    "ax[0][1].set_title(\"Total elapsed time (ms)\")\n",
    "ax[1][0].set_title(\"No. of rounds per node\")\n",
    "ax[1][1].set_title(\"Total elapsed time (ms)\")"
   ]
  },
  {
   "cell_type": "markdown",
   "id": "c32000cf-a52d-4476-9f6e-8aa2d135c4f1",
   "metadata": {},
   "source": [
    "- The original paper (Team Rocket) claimed that the Snow protocols require $\\mathcal{O}(\\log n)$ communication rounds (per node) in expectation. Note that $\\log n \\approx 4.61$.\n",
    "- Sesar, Cachin and Schneider argued in 2401.0281 that Slush requires a minimum of $\\Omega\\left(\\frac{\\log n}{\\log k}\\right)$ rounds in the absence of adversarial influence. Moreover, they argued that Slush reaches stable consensus in $\\mathcal{O}\\left(\\log n\\right)$  rounds even in the presence of up to $\\mathcal{O}(\\sqrt{n})$ adversaries. \n",
    "\n",
    "For $n=101$ we have the minimum number of rounds for stable consensus:\n",
    "- $k=10$: $\\frac{\\log n}{\\log k} \\approx 2$\n",
    "- $k=20$: $\\frac{\\log n}{\\log k} \\approx 1.54$\n",
    "\n",
    "\n",
    "Note that our observations are that small $k$ leads to faster convergence. However, note that we stop the SlushProtocol_length algorithm before reaching the \"all-blue\" or \"all-red\" states. The analysis of Sesar, Cachin and Schneider looks at a state where all but $n - \\mathcal{O}(\\sqrt{n})$ have the same opinion."
   ]
  },
  {
   "cell_type": "code",
   "execution_count": null,
   "id": "26e05e41-478d-4833-a87c-edaa0eafcd16",
   "metadata": {},
   "outputs": [],
   "source": []
  },
  {
   "cell_type": "code",
   "execution_count": null,
   "id": "9e670c59-3124-41bd-a2d8-ae97c1961645",
   "metadata": {},
   "outputs": [],
   "source": []
  },
  {
   "cell_type": "markdown",
   "id": "9bf07f47-eaaf-4f20-9ea5-0db25c6696fb",
   "metadata": {
    "tags": []
   },
   "source": [
    "### Introducing Byzantine nodes"
   ]
  },
  {
   "cell_type": "markdown",
   "id": "2fc4ebde-847e-4935-b78d-f4881de384c0",
   "metadata": {},
   "source": [
    "When we introduce Byzantine nodes, we have to be careful whether $f > \\alpha$ or not. If yes, then the underlying Markov chain will only have one absorbing state, so we need to stop the process early on. Hence, for simplicity we let the algorithm go until all but $\\sqrt{n}$ nodes agree on the state."
   ]
  },
  {
   "cell_type": "markdown",
   "id": "86a2a7b3-ac8a-4f64-8d70-dfbe94cc5362",
   "metadata": {
    "tags": []
   },
   "source": [
    "We assume that the Byzantine nodes are perfectly Byzantine, so they always reply with 0 (assuming that 1 is the correct decision).\n",
    "\n",
    "In this case, the midpoint is no longer 50% of total nodes. For n=101:\n",
    "\n",
    "- f = 0 : 50 - 51 is mid point\n",
    "- f = 1 : 50 - 51 is mid point\n",
    "- f = 2 : 50 - 51 is mid point\n",
    "- f = 3 : 51 - 52 is mid point\n",
    "- f = 4 : 51 - 52 is mid point\n",
    "- f = 5 : 51 - 52 is mid point\n",
    "- f = 6 : 51 - 52 is mid point\n",
    "- f = 7 : 52 - 53 is mid point"
   ]
  },
  {
   "cell_type": "code",
   "execution_count": 57,
   "id": "86c36b1f-383d-41d6-98a7-fc0ed5fed721",
   "metadata": {
    "tags": []
   },
   "outputs": [],
   "source": [
    "SlushResults_Byz = pd.DataFrame()\n",
    "\n",
    "n, f = 101, 9\n",
    "colours = np.concatenate((np.zeros(n//2-2-f), np.ones(n//2+1+2)))\n",
    "np.random.shuffle(colours)\n",
    "colours = np.concatenate((np.zeros(f), colours))\n",
    "\n",
    "k, alpha = 10, 6\n",
    "\n",
    "N = 1000\n",
    "Ts, Ms = np.zeros(N), np.zeros(N, dtype = int)\n",
    "param = int(np.sqrt(n))\n",
    "\n",
    "for j in range(N):\n",
    "    start_time = time.time()\n",
    "    Ms[j] = slush(n, f, colours.copy(), k, alpha, param)[1]\n",
    "    Ts[j] = time.time() - start_time\n"
   ]
  },
  {
   "cell_type": "code",
   "execution_count": 58,
   "id": "69f099f1-8eab-4fb3-9ced-bf8965bf0c1b",
   "metadata": {
    "tags": []
   },
   "outputs": [],
   "source": [
    "SlushResults_Byz[\"m (10, 6, 9)\"] = Ms/(n-f)\n",
    "SlushResults_Byz[\"t (10, 6, 9)\"] = Ts*1000"
   ]
  },
  {
   "cell_type": "code",
   "execution_count": 59,
   "id": "3a2d9398-150b-40a3-b54e-1e27d6ac6852",
   "metadata": {
    "tags": []
   },
   "outputs": [
    {
     "data": {
      "text/html": [
       "<div>\n",
       "<style scoped>\n",
       "    .dataframe tbody tr th:only-of-type {\n",
       "        vertical-align: middle;\n",
       "    }\n",
       "\n",
       "    .dataframe tbody tr th {\n",
       "        vertical-align: top;\n",
       "    }\n",
       "\n",
       "    .dataframe thead th {\n",
       "        text-align: right;\n",
       "    }\n",
       "</style>\n",
       "<table border=\"1\" class=\"dataframe\">\n",
       "  <thead>\n",
       "    <tr style=\"text-align: right;\">\n",
       "      <th></th>\n",
       "      <th>m (10, 6, 0)</th>\n",
       "      <th>t (10, 6, 0)</th>\n",
       "      <th>m (10, 6, 1)</th>\n",
       "      <th>t (10, 6, 1)</th>\n",
       "      <th>m (10, 6, 2)</th>\n",
       "      <th>t (10, 6, 2)</th>\n",
       "      <th>m (10, 6, 3)</th>\n",
       "      <th>t (10, 6, 3)</th>\n",
       "      <th>m (10, 6, 4)</th>\n",
       "      <th>t (10, 6, 4)</th>\n",
       "      <th>m (10, 6, 5)</th>\n",
       "      <th>t (10, 6, 5)</th>\n",
       "      <th>m (10, 6, 6)</th>\n",
       "      <th>t (10, 6, 6)</th>\n",
       "      <th>m (10, 6, 7)</th>\n",
       "      <th>t (10, 6, 7)</th>\n",
       "      <th>m (10, 6, 8)</th>\n",
       "      <th>t (10, 6, 8)</th>\n",
       "      <th>m (10, 6, 9)</th>\n",
       "      <th>t (10, 6, 9)</th>\n",
       "    </tr>\n",
       "  </thead>\n",
       "  <tbody>\n",
       "    <tr>\n",
       "      <th>count</th>\n",
       "      <td>1000.000000</td>\n",
       "      <td>1000.000000</td>\n",
       "      <td>1000.00000</td>\n",
       "      <td>1000.000000</td>\n",
       "      <td>1000.000000</td>\n",
       "      <td>1000.000000</td>\n",
       "      <td>1000.000000</td>\n",
       "      <td>1000.000000</td>\n",
       "      <td>1000.000000</td>\n",
       "      <td>1000.000000</td>\n",
       "      <td>1000.000000</td>\n",
       "      <td>1000.000000</td>\n",
       "      <td>1000.000000</td>\n",
       "      <td>1000.000000</td>\n",
       "      <td>1000.000000</td>\n",
       "      <td>1000.000000</td>\n",
       "      <td>1000.000000</td>\n",
       "      <td>1000.000000</td>\n",
       "      <td>1000.000000</td>\n",
       "      <td>1000.000000</td>\n",
       "    </tr>\n",
       "    <tr>\n",
       "      <th>mean</th>\n",
       "      <td>2.582069</td>\n",
       "      <td>6.011523</td>\n",
       "      <td>2.65535</td>\n",
       "      <td>6.660209</td>\n",
       "      <td>2.797121</td>\n",
       "      <td>6.577901</td>\n",
       "      <td>2.913724</td>\n",
       "      <td>6.701431</td>\n",
       "      <td>3.053247</td>\n",
       "      <td>6.895546</td>\n",
       "      <td>3.184667</td>\n",
       "      <td>7.658503</td>\n",
       "      <td>3.338221</td>\n",
       "      <td>7.681384</td>\n",
       "      <td>3.569213</td>\n",
       "      <td>8.069439</td>\n",
       "      <td>3.876409</td>\n",
       "      <td>8.656616</td>\n",
       "      <td>4.332293</td>\n",
       "      <td>9.564393</td>\n",
       "    </tr>\n",
       "    <tr>\n",
       "      <th>std</th>\n",
       "      <td>0.648774</td>\n",
       "      <td>1.653084</td>\n",
       "      <td>0.67314</td>\n",
       "      <td>2.091143</td>\n",
       "      <td>0.662123</td>\n",
       "      <td>1.907449</td>\n",
       "      <td>0.707739</td>\n",
       "      <td>1.748532</td>\n",
       "      <td>0.694168</td>\n",
       "      <td>1.755446</td>\n",
       "      <td>0.795782</td>\n",
       "      <td>2.285699</td>\n",
       "      <td>0.826098</td>\n",
       "      <td>2.095675</td>\n",
       "      <td>0.977661</td>\n",
       "      <td>2.272738</td>\n",
       "      <td>1.187829</td>\n",
       "      <td>2.822511</td>\n",
       "      <td>1.750133</td>\n",
       "      <td>3.939120</td>\n",
       "    </tr>\n",
       "    <tr>\n",
       "      <th>min</th>\n",
       "      <td>1.069307</td>\n",
       "      <td>1.994371</td>\n",
       "      <td>1.28000</td>\n",
       "      <td>2.967596</td>\n",
       "      <td>1.464646</td>\n",
       "      <td>2.957821</td>\n",
       "      <td>1.561224</td>\n",
       "      <td>2.991915</td>\n",
       "      <td>1.463918</td>\n",
       "      <td>2.991676</td>\n",
       "      <td>1.697917</td>\n",
       "      <td>3.985405</td>\n",
       "      <td>1.694737</td>\n",
       "      <td>3.956079</td>\n",
       "      <td>1.553191</td>\n",
       "      <td>2.991676</td>\n",
       "      <td>1.483871</td>\n",
       "      <td>2.991676</td>\n",
       "      <td>1.630435</td>\n",
       "      <td>2.991915</td>\n",
       "    </tr>\n",
       "    <tr>\n",
       "      <th>25%</th>\n",
       "      <td>2.099010</td>\n",
       "      <td>4.986525</td>\n",
       "      <td>2.19000</td>\n",
       "      <td>4.989028</td>\n",
       "      <td>2.340909</td>\n",
       "      <td>4.989624</td>\n",
       "      <td>2.428571</td>\n",
       "      <td>5.980611</td>\n",
       "      <td>2.577320</td>\n",
       "      <td>5.983829</td>\n",
       "      <td>2.635417</td>\n",
       "      <td>5.984545</td>\n",
       "      <td>2.736842</td>\n",
       "      <td>5.985498</td>\n",
       "      <td>2.848404</td>\n",
       "      <td>5.985916</td>\n",
       "      <td>2.935484</td>\n",
       "      <td>6.944180</td>\n",
       "      <td>2.888587</td>\n",
       "      <td>5.985916</td>\n",
       "    </tr>\n",
       "    <tr>\n",
       "      <th>50%</th>\n",
       "      <td>2.455446</td>\n",
       "      <td>5.983829</td>\n",
       "      <td>2.54000</td>\n",
       "      <td>5.988240</td>\n",
       "      <td>2.676768</td>\n",
       "      <td>5.985498</td>\n",
       "      <td>2.785714</td>\n",
       "      <td>5.987644</td>\n",
       "      <td>2.963918</td>\n",
       "      <td>6.980896</td>\n",
       "      <td>3.041667</td>\n",
       "      <td>6.982565</td>\n",
       "      <td>3.236842</td>\n",
       "      <td>7.014871</td>\n",
       "      <td>3.436170</td>\n",
       "      <td>7.978439</td>\n",
       "      <td>3.731183</td>\n",
       "      <td>7.979989</td>\n",
       "      <td>4.010870</td>\n",
       "      <td>8.975983</td>\n",
       "    </tr>\n",
       "    <tr>\n",
       "      <th>75%</th>\n",
       "      <td>2.940594</td>\n",
       "      <td>6.981373</td>\n",
       "      <td>3.01000</td>\n",
       "      <td>7.946432</td>\n",
       "      <td>3.131313</td>\n",
       "      <td>7.015765</td>\n",
       "      <td>3.275510</td>\n",
       "      <td>7.976353</td>\n",
       "      <td>3.435567</td>\n",
       "      <td>7.978678</td>\n",
       "      <td>3.617188</td>\n",
       "      <td>8.975506</td>\n",
       "      <td>3.802632</td>\n",
       "      <td>8.975089</td>\n",
       "      <td>4.170213</td>\n",
       "      <td>8.977473</td>\n",
       "      <td>4.666667</td>\n",
       "      <td>9.982646</td>\n",
       "      <td>5.347826</td>\n",
       "      <td>11.967719</td>\n",
       "    </tr>\n",
       "    <tr>\n",
       "      <th>max</th>\n",
       "      <td>5.653465</td>\n",
       "      <td>13.963461</td>\n",
       "      <td>6.36000</td>\n",
       "      <td>30.919313</td>\n",
       "      <td>5.424242</td>\n",
       "      <td>31.878948</td>\n",
       "      <td>6.989796</td>\n",
       "      <td>15.957117</td>\n",
       "      <td>6.793814</td>\n",
       "      <td>19.947290</td>\n",
       "      <td>6.854167</td>\n",
       "      <td>38.896799</td>\n",
       "      <td>6.652632</td>\n",
       "      <td>27.925253</td>\n",
       "      <td>10.095745</td>\n",
       "      <td>21.940947</td>\n",
       "      <td>8.021505</td>\n",
       "      <td>31.913757</td>\n",
       "      <td>11.228261</td>\n",
       "      <td>24.933577</td>\n",
       "    </tr>\n",
       "  </tbody>\n",
       "</table>\n",
       "</div>"
      ],
      "text/plain": [
       "       m (10, 6, 0)  t (10, 6, 0)  m (10, 6, 1)  t (10, 6, 1)  m (10, 6, 2)   \n",
       "count   1000.000000   1000.000000    1000.00000   1000.000000   1000.000000  \\\n",
       "mean       2.582069      6.011523       2.65535      6.660209      2.797121   \n",
       "std        0.648774      1.653084       0.67314      2.091143      0.662123   \n",
       "min        1.069307      1.994371       1.28000      2.967596      1.464646   \n",
       "25%        2.099010      4.986525       2.19000      4.989028      2.340909   \n",
       "50%        2.455446      5.983829       2.54000      5.988240      2.676768   \n",
       "75%        2.940594      6.981373       3.01000      7.946432      3.131313   \n",
       "max        5.653465     13.963461       6.36000     30.919313      5.424242   \n",
       "\n",
       "       t (10, 6, 2)  m (10, 6, 3)  t (10, 6, 3)  m (10, 6, 4)  t (10, 6, 4)   \n",
       "count   1000.000000   1000.000000   1000.000000   1000.000000   1000.000000  \\\n",
       "mean       6.577901      2.913724      6.701431      3.053247      6.895546   \n",
       "std        1.907449      0.707739      1.748532      0.694168      1.755446   \n",
       "min        2.957821      1.561224      2.991915      1.463918      2.991676   \n",
       "25%        4.989624      2.428571      5.980611      2.577320      5.983829   \n",
       "50%        5.985498      2.785714      5.987644      2.963918      6.980896   \n",
       "75%        7.015765      3.275510      7.976353      3.435567      7.978678   \n",
       "max       31.878948      6.989796     15.957117      6.793814     19.947290   \n",
       "\n",
       "       m (10, 6, 5)  t (10, 6, 5)  m (10, 6, 6)  t (10, 6, 6)  m (10, 6, 7)   \n",
       "count   1000.000000   1000.000000   1000.000000   1000.000000   1000.000000  \\\n",
       "mean       3.184667      7.658503      3.338221      7.681384      3.569213   \n",
       "std        0.795782      2.285699      0.826098      2.095675      0.977661   \n",
       "min        1.697917      3.985405      1.694737      3.956079      1.553191   \n",
       "25%        2.635417      5.984545      2.736842      5.985498      2.848404   \n",
       "50%        3.041667      6.982565      3.236842      7.014871      3.436170   \n",
       "75%        3.617188      8.975506      3.802632      8.975089      4.170213   \n",
       "max        6.854167     38.896799      6.652632     27.925253     10.095745   \n",
       "\n",
       "       t (10, 6, 7)  m (10, 6, 8)  t (10, 6, 8)  m (10, 6, 9)  t (10, 6, 9)  \n",
       "count   1000.000000   1000.000000   1000.000000   1000.000000   1000.000000  \n",
       "mean       8.069439      3.876409      8.656616      4.332293      9.564393  \n",
       "std        2.272738      1.187829      2.822511      1.750133      3.939120  \n",
       "min        2.991676      1.483871      2.991676      1.630435      2.991915  \n",
       "25%        5.985916      2.935484      6.944180      2.888587      5.985916  \n",
       "50%        7.978439      3.731183      7.979989      4.010870      8.975983  \n",
       "75%        8.977473      4.666667      9.982646      5.347826     11.967719  \n",
       "max       21.940947      8.021505     31.913757     11.228261     24.933577  "
      ]
     },
     "execution_count": 59,
     "metadata": {},
     "output_type": "execute_result"
    }
   ],
   "source": [
    "SlushResults_Byz.describe()"
   ]
  },
  {
   "cell_type": "code",
   "execution_count": 65,
   "id": "a71abfd5-7897-4c63-8d72-6287bcb3104e",
   "metadata": {
    "tags": []
   },
   "outputs": [
    {
     "data": {
      "text/plain": [
       "Text(0.5, 1.0, 'Total elapsed time (ms)')"
      ]
     },
     "execution_count": 65,
     "metadata": {},
     "output_type": "execute_result"
    },
    {
     "data": {
      "image/png": "[encoded data removed]",
      "text/plain": [
       "<Figure size 1000x400 with 2 Axes>"
      ]
     },
     "metadata": {},
     "output_type": "display_data"
    }
   ],
   "source": [
    "fig, ax = plt.subplots(nrows=1, ncols=2, figsize=(10,4))\n",
    "\n",
    "SlushResults_Byz.hist(column=['m (10, 6, 0)'], figsize=(8,6), bins=15, ax= ax[0], alpha = 0.7, color = 'b', label=\"f=0\", lw = 1, ec='k')\n",
    "#SlushResults_Byz.hist(column=['m (10, 6, 4) '], figsize=(8,6), bins=15, ax= ax[0], alpha = 0.3, color = 'r', label=\"f=4\", lw = 1, ec='k')\n",
    "SlushResults_Byz.hist(column=['m (10, 6, 8)'], figsize=(8,6), bins=15, ax= ax[0], alpha = 0.3, color = 'g', label=\"f=8\", lw = 1, ec='k')\n",
    "\n",
    "SlushResults_Byz.hist(column=['t (10, 6, 0)'], figsize=(8,6), bins=6, ax= ax[1], alpha = 0.6, color = 'b', label=\"f=0\", lw = 1, ec='k')\n",
    "#SlushResults_Byz.hist(column=['t (10, 6, 4)'], figsize=(8,6), bins=6, ax= ax[1], alpha = 0.5, color = 'r', label=\"f=4\", lw = 1, ec='k')\n",
    "SlushResults_Byz.hist(column=['t (10, 6, 8)'], figsize=(8,6), bins=14, ax= ax[1], alpha = 0.5, color = 'g', label=\"f=8\", lw = 1, ec='k')\n",
    "\n",
    "\n",
    "ax[0].legend(loc = 'upper right')\n",
    "ax[1].legend(loc = 'upper right')\n",
    "\n",
    "ax[0].set_title(\"Rounds per (honest) node\")\n",
    "ax[1].set_title(\"Total elapsed time (ms)\")\n"
   ]
  },
  {
   "cell_type": "markdown",
   "id": "df4c7e20-464b-40c3-a322-ffa8d75e3ae5",
   "metadata": {},
   "source": [
    "Let us also plot the summary statistics:"
   ]
  },
  {
   "cell_type": "code",
   "execution_count": 66,
   "id": "d77d2210-5f3d-4431-a57c-f13540dbcdbf",
   "metadata": {
    "tags": []
   },
   "outputs": [],
   "source": [
    "M_mean, M_std = np.zeros(10), np.zeros(10)\n",
    "\n",
    "for j in range(10):\n",
    "    M_mean[j] = SlushResults_Byz['m (10, 6, '+str(j)+')'].mean()\n",
    "    M_std[j] = SlushResults_Byz['m (10, 6, '+str(j)+')'].std()\n"
   ]
  },
  {
   "cell_type": "code",
   "execution_count": 67,
   "id": "7fc75905-0616-49fe-b8de-72e59f9d2e69",
   "metadata": {
    "tags": []
   },
   "outputs": [
    {
     "data": {
      "text/plain": [
       "Text(0.5, 0, 'No. of Perfectly Byzantine nodes')"
      ]
     },
     "execution_count": 67,
     "metadata": {},
     "output_type": "execute_result"
    },
    {
     "data": {
      "image/png": "[encoded data removed]",
      "text/plain": [
       "<Figure size 1000x400 with 1 Axes>"
      ]
     },
     "metadata": {},
     "output_type": "display_data"
    }
   ],
   "source": [
    "fig, ax = plt.subplots(nrows=1, ncols=1, figsize=(10,4))\n",
    "\n",
    "ax.errorbar(np.arange(10), M_mean, yerr = M_std, capsize=3, fmt=\"r--o\", ecolor = 'black')\n",
    "ax.set_ylabel(\"Average rounds per node\")\n",
    "ax.set_xlabel(\"No. of Perfectly Byzantine nodes\")\n"
   ]
  },
  {
   "cell_type": "markdown",
   "id": "5aff3138-fe4c-4eb8-97fc-142bfb6d4d52",
   "metadata": {},
   "source": [
    "Conclusions:\n",
    "- The local Slush algorithm is run until all but $\\sqrt{n}$ nodes agree on a state.\n",
    "- For this, the number of rounds per node sufficient for convergence increases with the number of malicious users.\n",
    "- However, roughly 4 rounds per node appear to be enough for up to $f \\approx \\sqrt{n}$."
   ]
  }
 ],
 "metadata": {
  "kernelspec": {
   "display_name": "Python 3 (ipykernel)",
   "language": "python",
   "name": "python3"
  },
  "language_info": {
   "codemirror_mode": {
    "name": "ipython",
    "version": 3
   },
   "file_extension": ".py",
   "mimetype": "text/x-python",
   "name": "python",
   "nbconvert_exporter": "python",
   "pygments_lexer": "ipython3",
   "version": "3.12.4"
  }
 },
 "nbformat": 4,
 "nbformat_minor": 5
}
