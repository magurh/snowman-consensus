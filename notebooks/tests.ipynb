{
 "cells": [
  {
   "cell_type": "code",
   "execution_count": 1,
   "id": "ff0e9091-5e4c-4945-b414-d453a788bece",
   "metadata": {
    "editable": true,
    "slideshow": {
     "slide_type": ""
    },
    "tags": []
   },
   "outputs": [],
   "source": [
    "import numpy as np\n",
    "import random\n",
    "\n",
    "import sys\n",
    "import os\n",
    "\n",
    "module_path = os.path.abspath('../') # root directory\n",
    "if module_path not in sys.path:\n",
    "    sys.path.append(module_path)\n",
    "\n",
    "from snow.node.node import Node\n",
    "from snow.node.network import Network\n",
    "from snow.consensus.slush import SlushNode, SlushNetwork\n",
    "\n",
    "from snow.engine.slush_test import SlushSimulation\n"
   ]
  },
  {
   "cell_type": "markdown",
   "id": "c26a9ea7-52b0-4266-8403-b27e0a9b0ea3",
   "metadata": {},
   "source": [
    "### Slush simulation"
   ]
  },
  {
   "cell_type": "code",
   "execution_count": 7,
   "id": "a158a38f-4c81-4837-89d7-232eb1484167",
   "metadata": {},
   "outputs": [
    {
     "name": "stdout",
     "output_type": "stream",
     "text": [
      "Initial distribution: {1: 42, 0: 58}\n",
      "Round 1 distribution: {1: 40, 0: 60}\n",
      "Round 2 distribution: {1: 36, 0: 64}\n",
      "Round 3 distribution: {1: 23, 0: 77}\n",
      "Round 4 distribution: {0: 100}\n",
      "Round 5 distribution: {0: 100}\n",
      "Round 6 distribution: {0: 100}\n",
      "Round 7 distribution: {0: 100}\n",
      "Round 8 distribution: {0: 100}\n",
      "Round 9 distribution: {0: 100}\n",
      "Round 10 distribution: {0: 100}\n",
      "Round 11 distribution: {0: 100}\n",
      "Round 12 distribution: {0: 100}\n",
      "Round 13 distribution: {0: 100}\n",
      "Round 14 distribution: {0: 100}\n",
      "Round 15 distribution: {0: 100}\n"
     ]
    }
   ],
   "source": [
    "num_nodes, fixed_nodes, off_nodes = 100, 10, 0\n",
    "sample_size = 20\n",
    "initial_states = [random.choice([0, 1]) for _ in range(num_nodes-fixed_nodes)] + [0 for _ in range(fixed_nodes)]\n",
    "quorum = 15  # Example quorum\n",
    "rounds = 15  # Number of rounds to simulate\n",
    "\n",
    "simulation = SlushSimulation(\n",
    "    num_nodes=num_nodes, \n",
    "    fixed_nodes=fixed_nodes,\n",
    "    off_nodes=off_nodes,\n",
    "    initial_states=initial_states, \n",
    "    sample_size = sample_size, \n",
    "    quorum=quorum,\n",
    ")\n",
    "\n",
    "simulation.run(rounds=rounds)\n",
    "\n",
    "# nn = SlushNetwork.initialize_network(num_nodes=num_nodes, initial_states=initial_states, sample_size=sample_size, quorum=quorum)\n",
    "# nn.nodes"
   ]
  },
  {
   "cell_type": "code",
   "execution_count": null,
   "id": "5300e2c7-9ceb-42bc-b5b4-dd7d85d76ef9",
   "metadata": {},
   "outputs": [],
   "source": []
  }
 ],
 "metadata": {
  "kernelspec": {
   "display_name": "snowman",
   "language": "python",
   "name": "snowman"
  },
  "language_info": {
   "codemirror_mode": {
    "name": "ipython",
    "version": 3
   },
   "file_extension": ".py",
   "mimetype": "text/x-python",
   "name": "python",
   "nbconvert_exporter": "python",
   "pygments_lexer": "ipython3",
   "version": "3.10.12"
  }
 },
 "nbformat": 4,
 "nbformat_minor": 5
}
