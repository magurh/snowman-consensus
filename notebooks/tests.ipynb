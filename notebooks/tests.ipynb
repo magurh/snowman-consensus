{
 "cells": [
  {
   "cell_type": "code",
   "execution_count": 1,
   "id": "ff0e9091-5e4c-4945-b414-d453a788bece",
   "metadata": {
    "editable": true,
    "slideshow": {
     "slide_type": ""
    },
    "tags": []
   },
   "outputs": [],
   "source": [
    "import matplotlib.pyplot as plt\n",
    "import numpy as np\n",
    "import random\n",
    "\n",
    "import sys\n",
    "import os\n",
    "\n",
    "module_path = os.path.abspath('../') # root directory\n",
    "if module_path not in sys.path:\n",
    "    sys.path.append(module_path)\n",
    "\n",
    "from snow.node.node import Node\n",
    "from snow.node.network import Network\n",
    "from snow.consensus.slush import SlushNode, SlushNetwork\n",
    "from snow.consensus.snowflake import SnowflakeNode, SnowflakeNetwork\n",
    "\n",
    "from snow.engine.slush_test import SlushSimulation\n",
    "from snow.engine.snowflake_test import SnowflakeSimulation"
   ]
  },
  {
   "cell_type": "markdown",
   "id": "c26a9ea7-52b0-4266-8403-b27e0a9b0ea3",
   "metadata": {},
   "source": [
    "# Slush simulation"
   ]
  },
  {
   "cell_type": "markdown",
   "id": "9e87a6af-99e9-4f50-869f-28bd169112ec",
   "metadata": {
    "jp-MarkdownHeadingCollapsed": true
   },
   "source": [
    "## Simple tests"
   ]
  },
  {
   "cell_type": "code",
   "execution_count": 4,
   "id": "a158a38f-4c81-4837-89d7-232eb1484167",
   "metadata": {},
   "outputs": [
    {
     "data": {
      "text/plain": [
       "[<snow.consensus.slush.SlushNode at 0x7fcc344074f0>,\n",
       " <snow.consensus.slush.SlushNode at 0x7fcc34407010>,\n",
       " <snow.consensus.slush.SlushNode at 0x7fcc345ee5f0>,\n",
       " <snow.consensus.slush.SlushNode at 0x7fcc345ee770>,\n",
       " <snow.consensus.slush.SlushNode at 0x7fcc345ec0a0>,\n",
       " <snow.consensus.slush.SlushNode at 0x7fcc5822a110>,\n",
       " <snow.consensus.slush.SlushNode at 0x7fcc582289d0>,\n",
       " <snow.consensus.slush.SlushNode at 0x7fcc58228100>,\n",
       " <snow.consensus.slush.SlushNode at 0x7fcc358ea5c0>,\n",
       " <snow.consensus.slush.SlushNode at 0x7fcc358ea6e0>]"
      ]
     },
     "execution_count": 4,
     "metadata": {},
     "output_type": "execute_result"
    }
   ],
   "source": [
    "num_nodes, fixed_nodes, off_nodes = 10, 0, 0\n",
    "sample_size = 20\n",
    "\n",
    "initial_states = [random.choice([0, 1]) for _ in range(num_nodes)]\n",
    "\n",
    "# num_ones = num_nodes//2 + 1\n",
    "# initial_states = [1 for _ in range(num_ones)] + [0 for _ in range(num_ones, num_nodes)]\n",
    "quorum = 15  # Example quorum\n",
    "rounds = 15  # Number of rounds to simulate\n",
    "\n",
    "# simulation = SlushSimulation(\n",
    "#     num_nodes=num_nodes, \n",
    "#     fixed_nodes=fixed_nodes,\n",
    "#     off_nodes=off_nodes,\n",
    "#     initial_states=initial_states, \n",
    "#     sample_size = sample_size, \n",
    "#     quorum=quorum,\n",
    "# )\n",
    "\n",
    "# simulation.run(rounds=rounds)\n",
    "\n",
    "nn = SlushNetwork.initialize_network(num_nodes=num_nodes, initial_states=initial_states, sample_size=sample_size, quorum=quorum)\n",
    "nn.nodes"
   ]
  },
  {
   "cell_type": "code",
   "execution_count": 8,
   "id": "5300e2c7-9ceb-42bc-b5b4-dd7d85d76ef9",
   "metadata": {},
   "outputs": [
    {
     "data": {
      "text/plain": [
       "1"
      ]
     },
     "execution_count": 8,
     "metadata": {},
     "output_type": "execute_result"
    }
   ],
   "source": [
    "nn.nodes[0].preferred_state"
   ]
  },
  {
   "cell_type": "markdown",
   "id": "c0baf057-b04f-4ebe-bff1-fea4040bee6f",
   "metadata": {},
   "source": [
    "# Snowflake Tests"
   ]
  },
  {
   "cell_type": "code",
   "execution_count": 2,
   "id": "e642a0fa-4ecf-4836-9dfd-431facc6610c",
   "metadata": {},
   "outputs": [
    {
     "data": {
      "text/plain": [
       "[<snow.consensus.snowflake.SnowflakeNode at 0x7fb7a01f85e0>,\n",
       " <snow.consensus.snowflake.SnowflakeNode at 0x7fb7a01f8580>,\n",
       " <snow.consensus.snowflake.SnowflakeNode at 0x7fb7a01f8520>,\n",
       " <snow.consensus.snowflake.SnowflakeNode at 0x7fb7a01fa530>,\n",
       " <snow.consensus.snowflake.SnowflakeNode at 0x7fb7a01fa590>,\n",
       " <snow.consensus.snowflake.SnowflakeNode at 0x7fb7a01fa5c0>,\n",
       " <snow.consensus.snowflake.SnowflakeNode at 0x7fb7a01fa7a0>,\n",
       " <snow.consensus.snowflake.SnowflakeNode at 0x7fb7a01f9090>,\n",
       " <snow.consensus.snowflake.SnowflakeNode at 0x7fb7a01f90c0>,\n",
       " <snow.consensus.snowflake.SnowflakeNode at 0x7fb7a01f9120>]"
      ]
     },
     "execution_count": 2,
     "metadata": {},
     "output_type": "execute_result"
    }
   ],
   "source": [
    "num_nodes, fixed_nodes, off_nodes = 10, 0, 0\n",
    "sample_size = 5\n",
    "\n",
    "initial_states = [random.choice([0, 1]) for _ in range(num_nodes)]\n",
    "\n",
    "quorum = 15  # Example quorum\n",
    "beta = 15  # Number of rounds to simulate\n",
    "\n",
    "\n",
    "nn = SnowflakeNetwork.initialize_network(\n",
    "    num_nodes=num_nodes, \n",
    "    initial_states=initial_states, \n",
    "    sample_size=sample_size, \n",
    "    quorum=quorum,\n",
    "    beta=beta,\n",
    ")\n",
    "\n",
    "nn.nodes"
   ]
  },
  {
   "cell_type": "code",
   "execution_count": 3,
   "id": "1dcecb92-5f73-4393-bf07-45c7c1a547c4",
   "metadata": {},
   "outputs": [
    {
     "data": {
      "text/plain": [
       "0"
      ]
     },
     "execution_count": 3,
     "metadata": {},
     "output_type": "execute_result"
    }
   ],
   "source": [
    "nn.nodes[0].rounds"
   ]
  },
  {
   "cell_type": "markdown",
   "id": "3b8b5bd4-948e-402f-9b22-ca5df7912d72",
   "metadata": {},
   "source": [
    "- Testing honest nodes"
   ]
  },
  {
   "cell_type": "code",
   "execution_count": 3,
   "id": "84f23686-0eae-4bbb-aa92-7c5fc81aa140",
   "metadata": {},
   "outputs": [
    {
     "name": "stdout",
     "output_type": "stream",
     "text": [
      "Initial distribution: {1: 48, 0: 52}\n",
      "All nodes have finalized their states. Ending simulation.\n"
     ]
    },
    {
     "data": {
      "text/plain": [
       "{19: 36, 18: 50, 17: 13, 16: 1}"
      ]
     },
     "execution_count": 3,
     "metadata": {},
     "output_type": "execute_result"
    }
   ],
   "source": [
    "num_nodes, fixed_nodes, off_nodes = 100, 0, 0\n",
    "sample_size = 20\n",
    "initial_states = [random.choice([0, 1]) for _ in range(num_nodes)]\n",
    "quorum = 15  # Example quorum\n",
    "beta = 15  # beta value\n",
    "\n",
    "simulation = SnowflakeSimulation(\n",
    "    num_nodes=num_nodes, \n",
    "    fixed_nodes=fixed_nodes,\n",
    "    off_nodes=off_nodes,\n",
    "    initial_states=initial_states, \n",
    "    sample_size = sample_size, \n",
    "    quorum=quorum,\n",
    "    beta = beta\n",
    ")\n",
    "\n",
    "states, rounds = simulation.run()\n",
    "rounds\n"
   ]
  },
  {
   "cell_type": "code",
   "execution_count": 4,
   "id": "52b889fb-fa3c-4008-8953-7146e2a1506b",
   "metadata": {},
   "outputs": [
    {
     "data": {
      "text/plain": [
       "{0: 100}"
      ]
     },
     "execution_count": 4,
     "metadata": {},
     "output_type": "execute_result"
    }
   ],
   "source": [
    "states"
   ]
  },
  {
   "cell_type": "markdown",
   "id": "b34e3c2a-9dbb-4506-9417-843744cd459f",
   "metadata": {},
   "source": [
    "- Repeated simulations"
   ]
  },
  {
   "cell_type": "code",
   "execution_count": 2,
   "id": "e006284a-04d0-46ee-aec2-42dcabd35234",
   "metadata": {},
   "outputs": [],
   "source": [
    "from collections import defaultdict\n",
    "\n",
    "def run_multiple_simulations(num_simulations):\n",
    "    overall_distribution = defaultdict(int)  # Initialize an empty distribution dictionary\n",
    "\n",
    "    for _ in range(num_simulations):\n",
    "        # Initialize the simulation parameters\n",
    "        num_nodes, fixed_nodes, off_nodes = 100, 0, 0\n",
    "        sample_size = 20\n",
    "        initial_states = [random.choice([0, 1]) for _ in range(num_nodes)]\n",
    "        quorum = 15  # Example quorum\n",
    "        beta = 15  # beta value\n",
    "\n",
    "        # Run the simulation\n",
    "        simulation = SnowflakeSimulation(\n",
    "            num_nodes=num_nodes, \n",
    "            fixed_nodes=fixed_nodes,\n",
    "            off_nodes=off_nodes,\n",
    "            initial_states=initial_states, \n",
    "            sample_size=sample_size, \n",
    "            quorum=quorum,\n",
    "            beta=beta\n",
    "        )\n",
    "        states, rounds = simulation.run()\n",
    "        \n",
    "        # Update the overall distribution with results from this run\n",
    "        for round_number, count in rounds.items():\n",
    "            overall_distribution[round_number] += count\n",
    "\n",
    "    # Convert defaultdict to a normal dictionary for easy display\n",
    "    return dict(overall_distribution)\n",
    "\n",
    "\n",
    "def plot_round_distribution(distribution):\n",
    "    # Sort the distribution by the round numbers (keys)\n",
    "    sorted_distribution = sorted(distribution.items())\n",
    "    rounds, counts = zip(*sorted_distribution)\n",
    "\n",
    "    # Create the bar plot\n",
    "    plt.figure(figsize=(10, 6))\n",
    "    plt.bar(rounds, counts, width=0.8, color='skyblue', edgecolor='black')\n",
    "\n",
    "    # Add labels and title\n",
    "    plt.xlabel(\"Number of Rounds\")\n",
    "    plt.ylabel(\"Frequency\")\n",
    "    plt.title(\"Round Distribution from Simulation\")\n",
    "    \n",
    "    # Display grid\n",
    "    plt.grid(axis='y', linestyle='--', alpha=0.7)\n",
    "\n",
    "    # Show the plot\n",
    "    plt.tight_layout()\n",
    "    plt.show()\n"
   ]
  },
  {
   "cell_type": "code",
   "execution_count": 4,
   "id": "b4a7ecb2-eefc-42d8-a784-8468150f2b6f",
   "metadata": {},
   "outputs": [
    {
     "data": {
      "image/png": "[encoded data removed]",
      "text/plain": [
       "<Figure size 1000x600 with 1 Axes>"
      ]
     },
     "metadata": {},
     "output_type": "display_data"
    }
   ],
   "source": [
    "num_simulations = 1000\n",
    "overall_distribution = run_multiple_simulations(num_simulations)\n",
    "plot_round_distribution(overall_distribution)\n"
   ]
  },
  {
   "cell_type": "code",
   "execution_count": null,
   "id": "5dc744a9-7aa0-4888-a13d-feb1905e71ce",
   "metadata": {},
   "outputs": [],
   "source": []
  }
 ],
 "metadata": {
  "kernelspec": {
   "display_name": "snowman",
   "language": "python",
   "name": "snowman"
  },
  "language_info": {
   "codemirror_mode": {
    "name": "ipython",
    "version": 3
   },
   "file_extension": ".py",
   "mimetype": "text/x-python",
   "name": "python",
   "nbconvert_exporter": "python",
   "pygments_lexer": "ipython3",
   "version": "3.10.12"
  }
 },
 "nbformat": 4,
 "nbformat_minor": 5
}
