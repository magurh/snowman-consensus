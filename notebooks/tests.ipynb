{
 "cells": [
  {
   "cell_type": "code",
   "execution_count": 1,
   "id": "ff0e9091-5e4c-4945-b414-d453a788bece",
   "metadata": {
    "editable": true,
    "slideshow": {
     "slide_type": ""
    },
    "tags": []
   },
   "outputs": [],
   "source": [
    "import numpy as np\n",
    "import random\n",
    "\n",
    "import sys\n",
    "import os\n",
    "\n",
    "module_path = os.path.abspath('../') # root directory\n",
    "if module_path not in sys.path:\n",
    "    sys.path.append(module_path)\n",
    "\n",
    "from engine.slush_test import SlushSimulation"
   ]
  },
  {
   "cell_type": "code",
   "execution_count": 2,
   "id": "5c2c2bd6-92fe-4ed9-abae-fc35859ae182",
   "metadata": {},
   "outputs": [],
   "source": [
    "from snow.node.node import Node\n",
    "from snow.node.network import Network\n",
    "from snow.consensus.slush import SlushNode, SlushNetwork"
   ]
  },
  {
   "cell_type": "markdown",
   "id": "c26a9ea7-52b0-4266-8403-b27e0a9b0ea3",
   "metadata": {},
   "source": [
    "### Slush simulation"
   ]
  },
  {
   "cell_type": "code",
   "execution_count": 19,
   "id": "a158a38f-4c81-4837-89d7-232eb1484167",
   "metadata": {},
   "outputs": [
    {
     "name": "stdout",
     "output_type": "stream",
     "text": [
      "Initial distribution: {0: 53, 1: 47}\n",
      "Round 1 distribution: {0: 56, 1: 44}\n",
      "Round 2 distribution: {0: 59, 1: 41}\n",
      "Round 3 distribution: {0: 71, 1: 29}\n",
      "Round 4 distribution: {0: 94, 1: 6}\n",
      "Round 5 distribution: {0: 100}\n",
      "Round 6 distribution: {0: 100}\n",
      "Round 7 distribution: {0: 100}\n",
      "Round 8 distribution: {0: 100}\n",
      "Round 9 distribution: {0: 100}\n",
      "Round 10 distribution: {0: 100}\n"
     ]
    }
   ],
   "source": [
    "num_nodes = 100\n",
    "sample_size = 20\n",
    "initial_states = [random.choice([0, 1]) for _ in range(num_nodes)]\n",
    "quorum = 15  # Example quorum\n",
    "rounds = 10  # Number of rounds to simulate\n",
    "\n",
    "simulation = SlushSimulation(\n",
    "    num_nodes=num_nodes, \n",
    "    initial_states=initial_states, \n",
    "    sample_size = sample_size, \n",
    "    quorum=quorum,\n",
    ")\n",
    "\n",
    "simulation.run(rounds=rounds)\n",
    "\n",
    "# nn = SlushNetwork.initialize_network(num_nodes=num_nodes, initial_states=initial_states, sample_size=sample_size, quorum=quorum)\n",
    "# nn.nodes"
   ]
  },
  {
   "cell_type": "code",
   "execution_count": null,
   "id": "2467fe9e-13d6-4a8f-979c-880bf7e425fe",
   "metadata": {},
   "outputs": [],
   "source": []
  }
 ],
 "metadata": {
  "kernelspec": {
   "display_name": "snowman",
   "language": "python",
   "name": "snowman"
  },
  "language_info": {
   "codemirror_mode": {
    "name": "ipython",
    "version": 3
   },
   "file_extension": ".py",
   "mimetype": "text/x-python",
   "name": "python",
   "nbconvert_exporter": "python",
   "pygments_lexer": "ipython3",
   "version": "3.10.12"
  }
 },
 "nbformat": 4,
 "nbformat_minor": 5
}
