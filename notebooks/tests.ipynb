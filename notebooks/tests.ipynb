{
 "cells": [
  {
   "cell_type": "code",
   "execution_count": 1,
   "id": "ff0e9091-5e4c-4945-b414-d453a788bece",
   "metadata": {
    "editable": true,
    "slideshow": {
     "slide_type": ""
    },
    "tags": []
   },
   "outputs": [],
   "source": [
    "import numpy as np\n",
    "import random\n",
    "\n",
    "import sys\n",
    "import os\n",
    "\n",
    "module_path = os.path.abspath('../') # root directory\n",
    "if module_path not in sys.path:\n",
    "    sys.path.append(module_path)\n",
    "\n",
    "from snow.node.node import Node\n",
    "from snow.node.network import Network\n",
    "from snow.consensus.slush import SlushNode, SlushNetwork\n",
    "from snow.consensus.snowflake import SnowflakeNode, SnowflakeNetwork\n",
    "\n",
    "from snow.engine.slush_test import SlushSimulation\n",
    "from snow.engine.snowflake_test import SnowflakeSimulation"
   ]
  },
  {
   "cell_type": "markdown",
   "id": "c26a9ea7-52b0-4266-8403-b27e0a9b0ea3",
   "metadata": {},
   "source": [
    "# Slush simulation"
   ]
  },
  {
   "cell_type": "markdown",
   "id": "9e87a6af-99e9-4f50-869f-28bd169112ec",
   "metadata": {
    "jp-MarkdownHeadingCollapsed": true
   },
   "source": [
    "## Simple tests"
   ]
  },
  {
   "cell_type": "code",
   "execution_count": 4,
   "id": "a158a38f-4c81-4837-89d7-232eb1484167",
   "metadata": {},
   "outputs": [
    {
     "data": {
      "text/plain": [
       "[<snow.consensus.slush.SlushNode at 0x7fcc344074f0>,\n",
       " <snow.consensus.slush.SlushNode at 0x7fcc34407010>,\n",
       " <snow.consensus.slush.SlushNode at 0x7fcc345ee5f0>,\n",
       " <snow.consensus.slush.SlushNode at 0x7fcc345ee770>,\n",
       " <snow.consensus.slush.SlushNode at 0x7fcc345ec0a0>,\n",
       " <snow.consensus.slush.SlushNode at 0x7fcc5822a110>,\n",
       " <snow.consensus.slush.SlushNode at 0x7fcc582289d0>,\n",
       " <snow.consensus.slush.SlushNode at 0x7fcc58228100>,\n",
       " <snow.consensus.slush.SlushNode at 0x7fcc358ea5c0>,\n",
       " <snow.consensus.slush.SlushNode at 0x7fcc358ea6e0>]"
      ]
     },
     "execution_count": 4,
     "metadata": {},
     "output_type": "execute_result"
    }
   ],
   "source": [
    "num_nodes, fixed_nodes, off_nodes = 10, 0, 0\n",
    "sample_size = 20\n",
    "\n",
    "initial_states = [random.choice([0, 1]) for _ in range(num_nodes)]\n",
    "\n",
    "# num_ones = num_nodes//2 + 1\n",
    "# initial_states = [1 for _ in range(num_ones)] + [0 for _ in range(num_ones, num_nodes)]\n",
    "quorum = 15  # Example quorum\n",
    "rounds = 15  # Number of rounds to simulate\n",
    "\n",
    "# simulation = SlushSimulation(\n",
    "#     num_nodes=num_nodes, \n",
    "#     fixed_nodes=fixed_nodes,\n",
    "#     off_nodes=off_nodes,\n",
    "#     initial_states=initial_states, \n",
    "#     sample_size = sample_size, \n",
    "#     quorum=quorum,\n",
    "# )\n",
    "\n",
    "# simulation.run(rounds=rounds)\n",
    "\n",
    "nn = SlushNetwork.initialize_network(num_nodes=num_nodes, initial_states=initial_states, sample_size=sample_size, quorum=quorum)\n",
    "nn.nodes"
   ]
  },
  {
   "cell_type": "code",
   "execution_count": 8,
   "id": "5300e2c7-9ceb-42bc-b5b4-dd7d85d76ef9",
   "metadata": {},
   "outputs": [
    {
     "data": {
      "text/plain": [
       "1"
      ]
     },
     "execution_count": 8,
     "metadata": {},
     "output_type": "execute_result"
    }
   ],
   "source": [
    "nn.nodes[0].preferred_state"
   ]
  },
  {
   "cell_type": "markdown",
   "id": "c0baf057-b04f-4ebe-bff1-fea4040bee6f",
   "metadata": {},
   "source": [
    "# Snowflake Tests"
   ]
  },
  {
   "cell_type": "code",
   "execution_count": 2,
   "id": "e642a0fa-4ecf-4836-9dfd-431facc6610c",
   "metadata": {},
   "outputs": [
    {
     "data": {
      "text/plain": [
       "[<snow.consensus.snowflake.SnowflakeNode at 0x7f8bcd7ac580>,\n",
       " <snow.consensus.snowflake.SnowflakeNode at 0x7f8bcc00bf40>,\n",
       " <snow.consensus.snowflake.SnowflakeNode at 0x7f8bcc00bf10>,\n",
       " <snow.consensus.snowflake.SnowflakeNode at 0x7f8bcc00beb0>,\n",
       " <snow.consensus.snowflake.SnowflakeNode at 0x7f8bcc00bc40>,\n",
       " <snow.consensus.snowflake.SnowflakeNode at 0x7f8bcc00bc70>,\n",
       " <snow.consensus.snowflake.SnowflakeNode at 0x7f8bcc00bca0>,\n",
       " <snow.consensus.snowflake.SnowflakeNode at 0x7f8bcc00b880>,\n",
       " <snow.consensus.snowflake.SnowflakeNode at 0x7f8bcc00a4d0>,\n",
       " <snow.consensus.snowflake.SnowflakeNode at 0x7f8bcc008730>]"
      ]
     },
     "execution_count": 2,
     "metadata": {},
     "output_type": "execute_result"
    }
   ],
   "source": [
    "num_nodes, fixed_nodes, off_nodes = 10, 0, 0\n",
    "sample_size = 5\n",
    "\n",
    "initial_states = [random.choice([0, 1]) for _ in range(num_nodes)]\n",
    "\n",
    "quorum = 15  # Example quorum\n",
    "beta = 15  # Number of rounds to simulate\n",
    "\n",
    "\n",
    "nn = SnowflakeNetwork.initialize_network(\n",
    "    num_nodes=num_nodes, \n",
    "    initial_states=initial_states, \n",
    "    sample_size=sample_size, \n",
    "    quorum=quorum,\n",
    "    beta=beta,\n",
    ")\n",
    "\n",
    "nn.nodes"
   ]
  },
  {
   "cell_type": "code",
   "execution_count": 3,
   "id": "1dcecb92-5f73-4393-bf07-45c7c1a547c4",
   "metadata": {},
   "outputs": [
    {
     "data": {
      "text/plain": [
       "0"
      ]
     },
     "execution_count": 3,
     "metadata": {},
     "output_type": "execute_result"
    }
   ],
   "source": [
    "nn.nodes[0].rounds"
   ]
  },
  {
   "cell_type": "markdown",
   "id": "3b8b5bd4-948e-402f-9b22-ca5df7912d72",
   "metadata": {},
   "source": [
    "- Testing honest nodes"
   ]
  },
  {
   "cell_type": "code",
   "execution_count": 9,
   "id": "84f23686-0eae-4bbb-aa92-7c5fc81aa140",
   "metadata": {},
   "outputs": [
    {
     "name": "stdout",
     "output_type": "stream",
     "text": [
      "Initial distribution: {0: 45, 1: 55}\n",
      "Round 1 distribution: {0: 40, 1: 60}\n",
      "Round 2 distribution: {0: 35, 1: 65}\n",
      "Round 3 distribution: {0: 23, 1: 77}\n",
      "Round 4 distribution: {1: 96, 0: 4}\n",
      "Round 5 distribution: {1: 100}\n",
      "Round 6 distribution: {1: 100}\n",
      "Round 7 distribution: {1: 100}\n",
      "Round 8 distribution: {1: 100}\n",
      "Round 9 distribution: {1: 100}\n",
      "Round 10 distribution: {1: 100}\n",
      "Round 11 distribution: {1: 100}\n",
      "Round 12 distribution: {1: 100}\n",
      "Round 13 distribution: {1: 100}\n",
      "Round 14 distribution: {1: 100}\n",
      "Round 15 distribution: {1: 100}\n",
      "Round 16 distribution: {1: 100}\n",
      "Round 17 distribution: {1: 100}\n",
      "Round 18 distribution: {1: 100}\n",
      "Round 19 distribution: {1: 100}\n",
      "All nodes have finalized their states. Ending simulation.\n"
     ]
    }
   ],
   "source": [
    "num_nodes, fixed_nodes, off_nodes = 100, 0, 0\n",
    "sample_size = 20\n",
    "initial_states = [random.choice([0, 1]) for _ in range(num_nodes)]\n",
    "quorum = 15  # Example quorum\n",
    "beta = 15  # beta value\n",
    "\n",
    "simulation = SnowflakeSimulation(\n",
    "    num_nodes=num_nodes, \n",
    "    fixed_nodes=fixed_nodes,\n",
    "    off_nodes=off_nodes,\n",
    "    initial_states=initial_states, \n",
    "    sample_size = sample_size, \n",
    "    quorum=quorum,\n",
    "    beta = beta\n",
    ")\n",
    "\n",
    "states, rounds = simulation.run()\n",
    "\n"
   ]
  },
  {
   "cell_type": "code",
   "execution_count": null,
   "id": "52b889fb-fa3c-4008-8953-7146e2a1506b",
   "metadata": {},
   "outputs": [],
   "source": []
  }
 ],
 "metadata": {
  "kernelspec": {
   "display_name": "snowman",
   "language": "python",
   "name": "snowman"
  },
  "language_info": {
   "codemirror_mode": {
    "name": "ipython",
    "version": 3
   },
   "file_extension": ".py",
   "mimetype": "text/x-python",
   "name": "python",
   "nbconvert_exporter": "python",
   "pygments_lexer": "ipython3",
   "version": "3.10.12"
  }
 },
 "nbformat": 4,
 "nbformat_minor": 5
}
