{
 "cells": [
  {
   "cell_type": "code",
   "execution_count": 1,
   "id": "ff0e9091-5e4c-4945-b414-d453a788bece",
   "metadata": {
    "editable": true,
    "slideshow": {
     "slide_type": ""
    },
    "tags": []
   },
   "outputs": [],
   "source": [
    "import numpy as np\n",
    "import random\n",
    "\n",
    "import sys\n",
    "import os\n",
    "\n",
    "module_path = os.path.abspath('../') # root directory\n",
    "if module_path not in sys.path:\n",
    "    sys.path.append(module_path)\n",
    "\n",
    "from snow.node.node import Node\n",
    "from snow.node.network import Network\n",
    "from snow.consensus.slush import SlushNode, SlushNetwork\n",
    "\n",
    "from snow.engine.slush_test import SlushSimulation\n"
   ]
  },
  {
   "cell_type": "markdown",
   "id": "c26a9ea7-52b0-4266-8403-b27e0a9b0ea3",
   "metadata": {},
   "source": [
    "# Slush simulation"
   ]
  },
  {
   "cell_type": "markdown",
   "id": "9e87a6af-99e9-4f50-869f-28bd169112ec",
   "metadata": {},
   "source": [
    "## Simple tests"
   ]
  },
  {
   "cell_type": "code",
   "execution_count": 24,
   "id": "a158a38f-4c81-4837-89d7-232eb1484167",
   "metadata": {},
   "outputs": [
    {
     "name": "stdout",
     "output_type": "stream",
     "text": [
      "Initial distribution: {1: 51, 0: 49}\n",
      "Round 1 distribution: {1: 63, 0: 37}\n",
      "Round 2 distribution: {1: 59, 0: 41}\n",
      "Round 3 distribution: {1: 59, 0: 41}\n",
      "Round 4 distribution: {1: 63, 0: 37}\n",
      "Round 5 distribution: {1: 63, 0: 37}\n",
      "Round 6 distribution: {1: 61, 0: 39}\n",
      "Round 7 distribution: {1: 63, 0: 37}\n",
      "Round 8 distribution: {1: 63, 0: 37}\n",
      "Round 9 distribution: {1: 64, 0: 36}\n",
      "Round 10 distribution: {1: 62, 0: 38}\n",
      "Round 11 distribution: {1: 62, 0: 38}\n",
      "Round 12 distribution: {1: 63, 0: 37}\n",
      "Round 13 distribution: {1: 62, 0: 38}\n",
      "Round 14 distribution: {1: 64, 0: 36}\n",
      "Round 15 distribution: {1: 62, 0: 38}\n"
     ]
    }
   ],
   "source": [
    "num_nodes, fixed_nodes, off_nodes = 100, 0, 40\n",
    "sample_size = 20\n",
    "\n",
    "# initial_states = [random.choice([0, 1]) for _ in range(num_nodes)]\n",
    "\n",
    "num_ones = num_nodes//2 + 1\n",
    "initial_states = [1 for _ in range(num_ones)] + [0 for _ in range(num_ones, num_nodes)]\n",
    "quorum = 15  # Example quorum\n",
    "rounds = 15  # Number of rounds to simulate\n",
    "\n",
    "simulation = SlushSimulation(\n",
    "    num_nodes=num_nodes, \n",
    "    fixed_nodes=fixed_nodes,\n",
    "    off_nodes=off_nodes,\n",
    "    initial_states=initial_states, \n",
    "    sample_size = sample_size, \n",
    "    quorum=quorum,\n",
    ")\n",
    "\n",
    "simulation.run(rounds=rounds)\n",
    "\n",
    "# nn = SlushNetwork.initialize_network(num_nodes=num_nodes, initial_states=initial_states, sample_size=sample_size, quorum=quorum)\n",
    "# nn.nodes"
   ]
  },
  {
   "cell_type": "code",
   "execution_count": null,
   "id": "5300e2c7-9ceb-42bc-b5b4-dd7d85d76ef9",
   "metadata": {},
   "outputs": [],
   "source": []
  }
 ],
 "metadata": {
  "kernelspec": {
   "display_name": "snowman",
   "language": "python",
   "name": "snowman"
  },
  "language_info": {
   "codemirror_mode": {
    "name": "ipython",
    "version": 3
   },
   "file_extension": ".py",
   "mimetype": "text/x-python",
   "name": "python",
   "nbconvert_exporter": "python",
   "pygments_lexer": "ipython3",
   "version": "3.10.12"
  }
 },
 "nbformat": 4,
 "nbformat_minor": 5
}
